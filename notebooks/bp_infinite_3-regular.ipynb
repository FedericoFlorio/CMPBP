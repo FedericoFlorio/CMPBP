{
 "cells": [
  {
   "cell_type": "code",
   "execution_count": 1,
   "metadata": {},
   "outputs": [],
   "source": [
    "include(\"../src/CMPBP.jl\")\n",
    "using .CMPBP\n",
    "using LinearAlgebra\n",
    "\n",
    "const CMPS{F,N} = Array{F,N} where {F,N};"
   ]
  },
  {
   "cell_type": "code",
   "execution_count": null,
   "metadata": {},
   "outputs": [
    {
     "data": {
      "text/plain": [
       "onebpiter_infinite_regular! (generic function with 1 method)"
      ]
     },
     "metadata": {},
     "output_type": "display_data"
    }
   ],
   "source": [
    "function onebpiter_infinite_regular!(A::CMPS{F,5}, factor, prob;\n",
    "    maxiter=100, tol=1e-12, maxit_ascent=100, tol_ascent=1e-12, η=0.1 , maxit_pow=1000, tol_pow=1e-12) where F<:Number\n",
    "    q,d = size(A,1), size(A,4)\n",
    "    size(A,2)==size(A,3)==q && size(A,5)==d || error(\"Wrong dimensions for A, got $(size(A))\")\n",
    "\n",
    "    E(x,y; q=2) = [i==x && j==y for i in 1:q, j in 1:q]\n",
    "\n",
    "    Anew = rand(size(A)...)\n",
    "    AA = zeros(F, q,q,q,(q*d)^2,(q*d)^2)\n",
    "    for it in 1:maxiter\n",
    "        for x in 1:q, y in 1:q, z in 1:q\n",
    "            AA[x,y,z,:,:] = sum(prob(factor, y,x,x₁ᵗ,x₂ᵗ,z)*kron(E(x₁ᵗ,x₁ᵗ), E(x₂ᵗ,x₂ᵗ), I(d), I(d)) for x₁ᵗ in 1:q, x₂ᵗ in 1:q)\n",
    "            if x==y\n",
    "                AA[x,y,z,:,:] .+= (sum(kron(I(q), E(x₂ᵗ,x₂ᵗ⁺¹;q), I(d), A[x₂ᵗ,x₂ᵗ⁺¹,x,:,:]) for x₂ᵗ in 1:q, x₂ᵗ⁺¹ in 1:q) +\n",
    "                                sum(kron(E(x₁ᵗ,x₁ᵗ⁺¹; q), I(q), A[x₁ᵗ,x₁ᵗ⁺¹,x,:,:], I(d)) for x₁ᵗ in 1:q, x₁ᵗ⁺¹ in 1:q))\n",
    "            end\n",
    "        end\n",
    "        ascent!(Anew,AA; maxiter=maxit_ascent, η=η, tol=tol_ascent, maxiter_pow=maxit_pow, tol_pow=tol_pow)\n",
    "        @show marginals(A) marginals(Anew)\n",
    "        if norm(Anew - A) < tol\n",
    "            return it, Anew\n",
    "        end\n",
    "        A .= Anew\n",
    "    end\n",
    "    return maxiter, Anew\n",
    "end"
   ]
  },
  {
   "cell_type": "code",
   "execution_count": 5,
   "metadata": {},
   "outputs": [],
   "source": [
    "q = 2\n",
    "d = 5\n",
    "\n",
    "A = rand(q,q,q,d,d)\n",
    "\n",
    "k = 3\n",
    "β = 1.0\n",
    "J = 0.2\n",
    "h = 0.1\n",
    "\n",
    "\n",
    "function prob_glauber(factor, y,x,x∂i...; q=2)\n",
    "    β, J, h = factor.β, factor.J, factor.h\n",
    "    localfield = β*(h + J*sum(potts2spin, x∂i))\n",
    "    if x!=y\n",
    "        return exp(potts2spin(y)*localfield) / (2*cosh(localfield))\n",
    "    else\n",
    "        return -sum(exp(potts2spin(y)*localfield) / (2*cosh(localfield)) for y in 1:q if y≠x)\n",
    "    end\n",
    "end\n",
    "\n",
    "struct GlauberFactor{F}\n",
    "    β::F\n",
    "    J::F\n",
    "    h::F\n",
    "end\n",
    "\n",
    "w = GlauberFactor(β, J, h)\n",
    ";"
   ]
  },
  {
   "cell_type": "code",
   "execution_count": 9,
   "metadata": {},
   "outputs": [
    {
     "name": "stdout",
     "output_type": "stream",
     "text": [
      "marginals(A) = ComplexF64[0.41659749664367157 + 1.228885888161515e-16im, 0.5834025033563284 - 1.228885888161515e-16im]\n",
      "marginals(Anew) = ComplexF64[0.40679219114814336 - 1.5620311760321713e-17im, 0.5932078088518566 + 1.562031176032171e-17im]\n",
      "marginals(A) = ComplexF64[0.40679219114814336 - 1.5620311760321713e-17im, 0.5932078088518566 + 1.562031176032171e-17im]\n",
      "marginals(Anew) = ComplexF64[0.42126078054410526 - 5.036757987981735e-17im, 0.5787392194558947 + 5.036757987981735e-17im]\n",
      "marginals(A) = ComplexF64[0.42126078054410526 - 5.036757987981735e-17im, 0.5787392194558947 + 5.036757987981735e-17im]\n",
      "marginals(Anew) = ComplexF64[0.43580535674880627 - 5.612719063007141e-17im, 0.5641946432511938 + 5.612719063007144e-17im]\n",
      "marginals(A) = ComplexF64[0.43580535674880627 - 5.612719063007141e-17im, 0.5641946432511938 + 5.612719063007144e-17im]\n",
      "marginals(Anew) = ComplexF64[0.4225074555221004 - 1.5868010410226068e-17im, 0.5774925444778997 + 1.5868010410226068e-17im]\n",
      "marginals(A) = ComplexF64[0.4225074555221004 - 1.5868010410226068e-17im, 0.5774925444778997 + 1.5868010410226068e-17im]\n",
      "marginals(Anew) = ComplexF64[0.413172733759454 - 9.838506928528564e-17im, 0.586827266240546 + 9.838506928528565e-17im]\n",
      "marginals(A) = ComplexF64[0.413172733759454 - 9.838506928528564e-17im, 0.586827266240546 + 9.838506928528565e-17im]\n",
      "marginals(Anew) = ComplexF64[0.4130951589329746 - 4.1180894946865334e-17im, 0.5869048410670255 + 4.1180894946865334e-17im]\n",
      "marginals(A) = ComplexF64[0.4130951589329746 - 4.1180894946865334e-17im, 0.5869048410670255 + 4.1180894946865334e-17im]\n",
      "marginals(Anew) = ComplexF64[0.4131722082255537 - 2.929191659839451e-17im, 0.5868277917744462 + 2.929191659839452e-17im]\n",
      "marginals(A) = ComplexF64[0.4131722082255537 - 2.929191659839451e-17im, 0.5868277917744462 + 2.929191659839452e-17im]\n",
      "marginals(Anew) = ComplexF64[0.4087938009983692 - 1.1934873991835812e-17im, 0.5912061990016308 + 1.1934873991835812e-17im]\n",
      "marginals(A) = ComplexF64[0.4087938009983692 - 1.1934873991835812e-17im, 0.5912061990016308 + 1.1934873991835812e-17im]\n",
      "marginals(Anew) = ComplexF64[0.4214412468396223 - 3.6071829716359506e-17im, 0.5785587531603776 + 3.60718297163595e-17im]\n",
      "marginals(A) = ComplexF64[0.4214412468396223 - 3.6071829716359506e-17im, 0.5785587531603776 + 3.60718297163595e-17im]\n",
      "marginals(Anew) = ComplexF64[0.4149790014934198 - 4.762668483327924e-17im, 0.5850209985065803 + 4.7626684833279254e-17im]\n",
      "marginals(A) = ComplexF64[0.4149790014934198 - 4.762668483327924e-17im, 0.5850209985065803 + 4.7626684833279254e-17im]\n",
      "marginals(Anew) = ComplexF64[0.4146336831937341 - 9.041853518815863e-18im, 0.5853663168062659 + 9.041853518815863e-18im]\n",
      "marginals(A) = ComplexF64[0.4146336831937341 - 9.041853518815863e-18im, 0.5853663168062659 + 9.041853518815863e-18im]\n",
      "marginals(Anew) = ComplexF64[0.4119660587151209 + 2.7393801145039905e-16im, 0.5880339412848792 - 2.7393801145039905e-16im]\n",
      "marginals(A) = ComplexF64[0.4119660587151209 + 2.7393801145039905e-16im, 0.5880339412848792 - 2.7393801145039905e-16im]\n",
      "marginals(Anew) = ComplexF64[0.4117072989704051 - 7.87495037813773e-17im, 0.588292701029595 + 7.874950378137729e-17im]\n",
      "marginals(A) = ComplexF64[0.4117072989704051 - 7.87495037813773e-17im, 0.588292701029595 + 7.874950378137729e-17im]\n",
      "marginals(Anew) = ComplexF64[0.41267849507096566 + 2.0463405441959233e-17im, 0.5873215049290345 - 2.0463405441959233e-17im]\n",
      "marginals(A) = ComplexF64[0.41267849507096566 + 2.0463405441959233e-17im, 0.5873215049290345 - 2.0463405441959233e-17im]\n",
      "marginals(Anew) = ComplexF64[0.4089640283765298 - 1.167516385186874e-16im, 0.5910359716234702 + 1.1675163851868737e-16im]\n",
      "marginals(A) = ComplexF64[0.4089640283765298 - 1.167516385186874e-16im, 0.5910359716234702 + 1.1675163851868737e-16im]\n",
      "marginals(Anew) = ComplexF64[0.40442467234388035 + 3.975908846393438e-16im, 0.5955753276561195 - 3.975908846393438e-16im]\n",
      "marginals(A) = ComplexF64[0.40442467234388035 + 3.975908846393438e-16im, 0.5955753276561195 - 3.975908846393438e-16im]\n",
      "marginals(Anew) = ComplexF64[0.4007804341401805 - 9.680378010326308e-17im, 0.5992195658598195 + 9.680378010326308e-17im]\n",
      "marginals(A) = ComplexF64[0.4007804341401805 - 9.680378010326308e-17im, 0.5992195658598195 + 9.680378010326308e-17im]\n",
      "marginals(Anew) = ComplexF64[0.3980848556180493 - 1.495431502408257e-16im, 0.6019151443819507 + 1.495431502408257e-16im]\n",
      "marginals(A) = ComplexF64[0.3980848556180493 - 1.495431502408257e-16im, 0.6019151443819507 + 1.495431502408257e-16im]\n",
      "marginals(Anew) = ComplexF64[0.3966883200354707 - 6.628638613931716e-17im, 0.6033116799645292 + 6.628638613931716e-17im]\n"
     ]
    },
    {
     "ename": "InterruptException",
     "evalue": "InterruptException:",
     "output_type": "error",
     "traceback": [
      "InterruptException:\n",
      "\n",
      "Stacktrace:\n",
      "  [1] _mapreduce(f::typeof(abs2), op::typeof(Base.add_sum), ::IndexLinear, A::Array{Float64, 4})\n",
      "    @ Base ./reduce.jl:425\n",
      "  [2] _mapreduce_dim\n",
      "    @ ./reducedim.jl:337 [inlined]\n",
      "  [3] mapreduce\n",
      "    @ ./reducedim.jl:329 [inlined]\n",
      "  [4] _sum\n",
      "    @ ./reducedim.jl:987 [inlined]\n",
      "  [5] sum\n",
      "    @ ./reducedim.jl:983 [inlined]\n",
      "  [6] findeigen_r!(Q::Array{Float64, 4}, A::Array{Float64, 5}, B::Array{Float64, 5}; maxiter_pow::Int64, tol_pow::Float64)\n",
      "    @ Main.CMPBP ~/PhD/CMPBP/src/truncation.jl:31\n",
      "  [7] findeigen_r!\n",
      "    @ ~/PhD/CMPBP/src/truncation.jl:18 [inlined]\n",
      "  [8] ascent!(A::Array{Float64, 5}, B::Array{Float64, 5}; maxiter::Int64, η::Float64, tol::Float64, maxiter_pow::Int64, tol_pow::Float64)\n",
      "    @ Main.CMPBP ~/PhD/CMPBP/src/truncation.jl:48\n",
      "  [9] ascent!\n",
      "    @ ~/PhD/CMPBP/src/truncation.jl:36 [inlined]\n",
      " [10] onebpiter_infinite_regular!(A::Array{Float64, 5}, factor::GlauberFactor{Float64}, prob::typeof(prob_glauber); maxiter::Int64, tol::Float64, maxit_ascent::Int64, tol_ascent::Float64, maxit_pow::Int64, tol_pow::Float64)\n",
      "    @ Main ~/PhD/CMPBP/notebooks/jl_notebook_cell_df34fa98e69747e1a8f8a730347b8e2f_W1sdnNjb2RlLXJlbW90ZQ==.jl:18\n",
      " [11] top-level scope\n",
      "    @ ~/PhD/CMPBP/notebooks/jl_notebook_cell_df34fa98e69747e1a8f8a730347b8e2f_W3sdnNjb2RlLXJlbW90ZQ==.jl:1"
     ]
    }
   ],
   "source": [
    "onebpiter_infinite_regular!(A, w, prob_glauber; maxiter=30, tol=1e-12, maxit_ascent=10^4, tol_ascent=1e-12, η=0.1, maxit_pow=10^4, tol_pow=1e-12);"
   ]
  },
  {
   "cell_type": "code",
   "execution_count": 10,
   "metadata": {},
   "outputs": [
    {
     "data": {
      "text/plain": [
       "0.20662335992905845 + 1.325727722786343e-16im"
      ]
     },
     "metadata": {},
     "output_type": "display_data"
    }
   ],
   "source": [
    "magnetization(A)"
   ]
  },
  {
   "cell_type": "code",
   "execution_count": 11,
   "metadata": {},
   "outputs": [
    {
     "data": {
      "text/plain": [
       "(m = 0.1939666644448763, r = 0.22272681103886016, e = -0.08621470975614569)"
      ]
     },
     "metadata": {},
     "output_type": "display_data"
    }
   ],
   "source": [
    "using MatrixProductBP.Models\n",
    "g = Models.RandomRegular(3)\n",
    "equilibrium_observables(g, J; β, h)"
   ]
  }
 ],
 "metadata": {
  "kernelspec": {
   "display_name": "Julia 1.11.5",
   "language": "julia",
   "name": "julia-1.11"
  },
  "language_info": {
   "file_extension": ".jl",
   "mimetype": "application/julia",
   "name": "julia",
   "version": "1.11.5"
  }
 },
 "nbformat": 4,
 "nbformat_minor": 2
}
