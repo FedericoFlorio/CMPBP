{
 "cells": [
  {
   "cell_type": "code",
   "execution_count": null,
   "metadata": {},
   "outputs": [],
   "source": [
    "using Revise\n",
    "# includet(\"../src/CMPBP.jl\")\n",
    "# using .CMPBP\n",
    "includet(\"../src/observables.jl\")\n",
    "includet(\"../src/truncation.jl\")\n",
    "includet(\"../src/glauber.jl\")\n",
    "includet(\"../src/cmpbp.jl\")\n",
    "using LinearAlgebra"
   ]
  },
  {
   "cell_type": "code",
   "execution_count": null,
   "metadata": {},
   "outputs": [],
   "source": [
    "q = 2\n",
    "d = 5\n",
    "A = rand(q,q,q,d,d)\n",
    "\n",
    "k = 3\n",
    "β = 1.0\n",
    "J = 0.2\n",
    "h = 0.1\n",
    "\n",
    "w = GlauberFactor(β, J, h)\n",
    ";"
   ]
  },
  {
   "cell_type": "code",
   "execution_count": 5,
   "metadata": {},
   "outputs": [
    {
     "name": "stdout",
     "output_type": "stream",
     "text": [
      "marginals(AA) = ComplexF64[0.7837849822004549 + 2.2546136011277636e-16im, 0.21621501779954513 - 2.2546136011277636e-16im]\n",
      "marginals(Anew) = ComplexF64[0.7953616680923978 - 1.1694800016318041e-17im, 0.20463833190760222 + 1.1694800016318043e-17im]\n",
      "marginals(AA) = ComplexF64[0.6773695316116437 + 9.31121293068379e-18im, 0.32263046838835635 - 9.31121293068379e-18im]\n",
      "marginals(Anew) = ComplexF64[0.685240685131103 + 3.671903136145757e-18im, 0.314759314868897 - 3.6719031361457555e-18im]\n",
      "marginals(AA) = ComplexF64[0.5704620903148011 - 7.344426548181714e-17im, 0.42953790968519895 + 7.344426548181714e-17im]\n",
      "marginals(Anew) = ComplexF64[0.5762020186161215 + 1.4900988180551702e-17im, 0.4237979813838784 - 1.4900988180551705e-17im]\n",
      "marginals(AA) = ComplexF64[0.4997604526329928 + 1.4769844692236004e-17im, 0.5002395473670073 - 1.4769844692236004e-17im]\n",
      "marginals(Anew) = ComplexF64[0.49788419673198764 - 1.861573807592441e-17im, 0.5021158032680123 + 1.8615738075924406e-17im]\n",
      "marginals(AA) = ComplexF64[0.4580124714506905 - 1.4090116354278453e-17im, 0.5419875285493095 + 1.4090116354278428e-17im]\n",
      "marginals(Anew) = ComplexF64[0.45084775891281664 - 1.1649611587226875e-17im, 0.5491522410871833 + 1.1649611587226874e-17im]\n",
      "marginals(AA) = ComplexF64[0.4313962788369445 + 8.301040376877598e-17im, 0.5686037211630555 - 8.301040376877605e-17im]\n",
      "marginals(Anew) = ComplexF64[0.4215522821624767 + 1.9785623002899458e-17im, 0.5784477178375234 - 1.9785623002899455e-17im]\n",
      "marginals(AA) = ComplexF64[0.41527492842975927 + 1.0948693717420996e-16im, 0.5847250715702408 - 1.0948693717420995e-16im]\n",
      "marginals(Anew) = ComplexF64[0.40454281950103177 + 1.0847550818882346e-17im, 0.5954571804989683 - 1.0847550818882348e-17im]\n",
      "marginals(AA) = ComplexF64[0.4069963044114364 - 8.001224745425773e-17im, 0.5930036955885637 + 8.001224745425772e-17im]\n",
      "marginals(Anew) = ComplexF64[0.3962104608647377 - 5.582433379435025e-18im, 0.6037895391352622 + 5.582433379435025e-18im]\n",
      "marginals(AA) = ComplexF64[0.4035873055385802 + 1.0486299967380684e-16im, 0.5964126944614199 - 1.0486299967380682e-16im]\n",
      "marginals(Anew) = ComplexF64[0.3928317163887161 + 1.302708468334555e-17im, 0.6071682836112839 - 1.3027084683345552e-17im]\n",
      "marginals(AA) = ComplexF64[0.402879416628137 + 2.1448670026452716e-16im, 0.597120583371863 - 2.1448670026452719e-16im]\n",
      "marginals(Anew) = ComplexF64[0.3922837675366914 + 1.5741394706906536e-17im, 0.6077162324633086 - 1.5741394706906536e-17im]\n"
     ]
    }
   ],
   "source": [
    "it, A, AA = iterate_infinite_regular!(A, w, prob_glauber; maxiter=10, tol=1e-12, maxits_ascent=[300, 300, 300], tols_ascent=[1e-16, 1e-16, 1e-16], ηs=[1e-2, 1e-3, 1e-4], maxit_pow=10^3, tol_pow=1e-16);"
   ]
  },
  {
   "cell_type": "code",
   "execution_count": 6,
   "metadata": {},
   "outputs": [
    {
     "data": {
      "text/plain": [
       "0.21543246492661722 - 3.148278941381307e-17im"
      ]
     },
     "metadata": {},
     "output_type": "display_data"
    }
   ],
   "source": [
    "magnetization(A)"
   ]
  },
  {
   "cell_type": "code",
   "execution_count": 7,
   "metadata": {},
   "outputs": [
    {
     "data": {
      "text/plain": [
       "(m = 0.1939666644448763, r = 0.22272681103886016, e = -0.08621470975614569)"
      ]
     },
     "metadata": {},
     "output_type": "display_data"
    }
   ],
   "source": [
    "using MatrixProductBP.Models\n",
    "g = Models.RandomRegular(3)\n",
    "equilibrium_observables(g, J; β, h)"
   ]
  },
  {
   "cell_type": "code",
   "execution_count": 8,
   "metadata": {},
   "outputs": [],
   "source": [
    "B = rand(size(A)...);"
   ]
  },
  {
   "cell_type": "code",
   "execution_count": 9,
   "metadata": {},
   "outputs": [
    {
     "name": "stdout",
     "output_type": "stream",
     "text": [
      "marginals(AA) = ComplexF64[0.402879416628133 - 3.3261755421045006e-17im, 0.5971205833718671 + 3.3261755421045006e-17im]\n",
      "marginals(B) = ComplexF64[0.3826900790413551 - 5.890530392222847e-18im, 0.617309920958645 + 5.890530392222838e-18im]\n"
     ]
    }
   ],
   "source": [
    "ascent!(B, AA; maxiters=[300, 300], ηs=[1e-2, 1e-3], tols=[1e-16, 1e-16], maxiter_pow=10^3, tol_pow=1e-16)\n",
    "@show marginals(AA) marginals(B);"
   ]
  },
  {
   "cell_type": "code",
   "execution_count": 81,
   "metadata": {},
   "outputs": [
    {
     "name": "stdout",
     "output_type": "stream",
     "text": [
      "marginals(AA) = ComplexF64[0.16293403437217585 - 3.0515828714456824e-17im, 0.8370659656278241 + 3.05158287144568e-17im]\n",
      "marginals(B) = ComplexF64[0.16016808131939897 + 1.6469155654489485e-17im, 0.839831918680601 - 1.6469155654489485e-17im]\n"
     ]
    }
   ],
   "source": [
    "ascent!(B, AA; maxiters=[100], ηs=[1e-4], tols=[1e-16], maxiter_pow=10^3, tol_pow=1e-16)\n",
    "@show marginals(AA) marginals(B);"
   ]
  }
 ],
 "metadata": {
  "kernelspec": {
   "display_name": "Julia 1.11.5",
   "language": "julia",
   "name": "julia-1.11"
  },
  "language_info": {
   "file_extension": ".jl",
   "mimetype": "application/julia",
   "name": "julia",
   "version": "1.11.5"
  }
 },
 "nbformat": 4,
 "nbformat_minor": 2
}
