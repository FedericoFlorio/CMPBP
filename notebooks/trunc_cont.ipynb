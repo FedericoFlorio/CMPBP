{
 "cells": [
  {
   "cell_type": "code",
   "execution_count": 1,
   "metadata": {},
   "outputs": [
    {
     "name": "stderr",
     "output_type": "stream",
     "text": [
      "\u001b[32m\u001b[1m  Activating\u001b[22m\u001b[39m project at `~/PhD/CMPBP`\n"
     ]
    }
   ],
   "source": [
    "using Pkg\n",
    "Pkg.activate(\"..\")"
   ]
  },
  {
   "cell_type": "code",
   "execution_count": 2,
   "metadata": {},
   "outputs": [],
   "source": [
    "using LinearAlgebra, Statistics, Revise\n",
    "includet(\"../src/observables.jl\")\n",
    "includet(\"../src/truncation.jl\")\n",
    "includet(\"../src/glauber.jl\")\n",
    "includet(\"../src/cmpbp.jl\")"
   ]
  },
  {
   "cell_type": "markdown",
   "metadata": {},
   "source": [
    "## Lagrange ascent"
   ]
  },
  {
   "cell_type": "code",
   "execution_count": 3,
   "metadata": {},
   "outputs": [
    {
     "data": {
      "text/plain": [
       "fidelity_eig (generic function with 1 method)"
      ]
     },
     "metadata": {},
     "output_type": "display_data"
    }
   ],
   "source": [
    "function build_S(A,B; q=size(A, 1), da=size(A,4), db=size(B,4))\n",
    "    sum(kron(E(z,zz;q), I(q), I(da), I(db)) for z in 1:q, zz in 1:q if z≠zz) + \n",
    "        sum(kron(E(z,z;q), E(x,x;q), kron(A[x,x,z,:,:],I(db))+kron(I(da),B[x,x,z,:,:])) for z in 1:q, x in 1:q) +\n",
    "        sum(kron(E(z,z;q), E(x,y;q), A[x,y,z,:,:], B[x,y,z,:,:]) for z in 1:q, x in 1:q, y in 1:q if y≠x)\n",
    "end\n",
    "\n",
    "function eigmax_S(A,B)\n",
    "    q = size(A, 1)\n",
    "    da, db = size(A,4), size(B,4)\n",
    "    size(A,2)==size(A,3)==size(B,1)==size(B,2)==size(B,3)==q || error(\"Incompatible dimensions\")\n",
    "    (size(A,5)==da && size(B,5)==db) || error(\"Incompatible dimensions\")\n",
    "\n",
    "    S = build_S(A,B; q,da,db)\n",
    "    maximum(real, eigen(S).values)\n",
    "    # eigen(S)\n",
    "end\n",
    "\n",
    "fidelity_eig(A,B) = eigmax_S(A,B) - 0.5 * (eigmax_S(A,A) + eigmax_S(B,B))"
   ]
  },
  {
   "cell_type": "code",
   "execution_count": 4,
   "metadata": {},
   "outputs": [
    {
     "name": "stdout",
     "output_type": "stream",
     "text": [
      "marginals(B) = ComplexF64[0.49384452430278103 - 1.6034038755913386e-17im, 0.5061554756972191 + 1.6034038755913383e-17im]\n",
      "marginals(A) = ComplexF64[0.4733164175900434 + 2.67993588326536e-17im, 0.5266835824099567 - 2.67993588326536e-17im]\n",
      "fidelity(A, B; maxiter = 10 ^ 6) = -0.02308615740470188\n",
      "fidelity_eig(A, B) = -0.023086157404698326\n"
     ]
    }
   ],
   "source": [
    "q = 2\n",
    "da, db = 5, 5\n",
    "\n",
    "B = rand(q,q,q,da,da)\n",
    "A = rand(q,q,q,db,db)\n",
    "# A = copy(B) .+ 0.1.*rand.()\n",
    "t = Truncator(A,B)\n",
    "\n",
    "@show marginals(B) marginals(A) fidelity(A,B; maxiter=10^6) fidelity_eig(A,B);"
   ]
  },
  {
   "cell_type": "code",
   "execution_count": 5,
   "metadata": {},
   "outputs": [
    {
     "name": "stdout",
     "output_type": "stream",
     "text": [
      "marginals(B) = ComplexF64[0.49384452430278103 - 1.6034038755913386e-17im, 0.5061554756972191 + 1.6034038755913383e-17im]\n",
      "marginals(A) = ComplexF64[0.48914154333404286 - 2.1067447896930892e-17im, 0.5108584566659572 + 2.106744789693089e-17im]\n",
      "fidelity_eig(A, B) = -0.0020299305267705847\n"
     ]
    }
   ],
   "source": [
    "ascent!(A, B, t; maxiters=[1000], ηs=[1e-4])\n",
    "@show marginals(B) marginals(A) fidelity_eig(A,B);"
   ]
  },
  {
   "cell_type": "markdown",
   "metadata": {},
   "source": [
    "## Augmented Lagrangian method"
   ]
  },
  {
   "cell_type": "code",
   "execution_count": 6,
   "metadata": {},
   "outputs": [
    {
     "data": {
      "text/plain": [
       "aug_lagrangian (generic function with 1 method)"
      ]
     },
     "metadata": {},
     "output_type": "display_data"
    }
   ],
   "source": [
    "e(x; q=2) = [i==x for i in 1:q]\n",
    "\n",
    "function aug_lagrangian(A, B, Q, P, Q1, P1, λ, λ1; μ=1e2)\n",
    "    q = size(A, 1)\n",
    "    da, db = size(A,4), size(B,4)\n",
    "\n",
    "    S = build_S(A,B; q,da,db)\n",
    "    S1 = build_S(A,A; q,da,db=da)\n",
    "    vecQ = sum(kron(e(z;q), e(x;q), vec(Q[x,z,:,:])) for z in 1:q, x in 1:q)\n",
    "    vecQ1 = sum(kron(e(z;q), e(x;q), vec(Q1[x,z,:,:])) for z in 1:q, x in 1:q)\n",
    "    vecP = sum(kron(e(z;q), e(x;q), vec(P[x,z,:,:])) for z in 1:q, x in 1:q)\n",
    "    vecP1 = sum(kron(e(z;q), e(x;q), vec(P1[x,z,:,:])) for z in 1:q, x in 1:q)\n",
    "\n",
    "    Sq = S*vecQ - λ*vecQ\n",
    "    S1q1 = S1*vecQ1 - λ1*vecQ1\n",
    "\n",
    "    return λ - λ1/2 + μ/2 * (Sq'Sq + S1q1'S1q1) + vecP'Sq + vecP1'S1q1\n",
    "end"
   ]
  },
  {
   "cell_type": "code",
   "execution_count": 83,
   "metadata": {},
   "outputs": [
    {
     "name": "stdout",
     "output_type": "stream",
     "text": [
      "fidelity_eig(A, B) = 0.0\n"
     ]
    }
   ],
   "source": [
    "q = 2\n",
    "da, db = 5, 5\n",
    "\n",
    "A = rand(q,q,q,da,da)\n",
    "# B = rand(q,q,q,db,db)\n",
    "B = copy(A) #.+ 1e-2.*rand.()\n",
    "@show fidelity_eig(A,B)\n",
    "\n",
    "t = Truncator(A,B);"
   ]
  },
  {
   "cell_type": "code",
   "execution_count": 84,
   "metadata": {},
   "outputs": [
    {
     "name": "stdout",
     "output_type": "stream",
     "text": [
      "maxiter_pow = 100000\n",
      "maxiter_pow = 100000\n",
      "maxiter_pow = 100000\n",
      "maxiter_pow = 100000\n"
     ]
    }
   ],
   "source": [
    "Q, P, Q1, P1 = t.Q, t.P, t.Q1, t.P1\n",
    "Qold, Pold, Q1old, P1old = t.Qold, t.Pold, t.Q1old, t.P1old\n",
    "simQ, simQ1, X = t.simQ, t.simQ1, t.X\n",
    "\n",
    "maxiter_pow = 10^5\n",
    "tol_pow = 1e-20\n",
    "\n",
    "findeigen_l!(P, A, B; maxiter_pow, tol_pow, q,da,db, X=simQ, Pold)\n",
    "findeigen_r!(Q, A, B; maxiter_pow, tol_pow, q,da,db, X=simQ, Qold)\n",
    "findeigen_l!(P1, A, A; maxiter_pow, tol_pow, q,da,db=da, X=simQ1, Pold=P1old)\n",
    "findeigen_r!(Q1, A, A; maxiter_pow, tol_pow, q,da,db=da, X=simQ1, Qold=Q1old)\n",
    "n = dotprod(P, Q)\n",
    "P ./= n\n",
    "n1 = dotprod(P1, Q1)\n",
    "P1 ./= -2n1\n",
    "\n",
    "Qold .= Q\n",
    "Pold .= P\n",
    "Q1old .= Q1\n",
    "P1old .= P1\n",
    "\n",
    "apply!(Qold,A,B)\n",
    "apply_dag!(Pold,A,B)\n",
    "apply!(Q1old,A,A)\n",
    "apply_dag!(P1old,A,A)\n",
    "\n",
    "t.λ = mean(Qold./Q)\n",
    "t.λ1 = mean(Q1old./Q1)\n",
    "Qold .= Q\n",
    "Q1old .= Q1\n",
    ";"
   ]
  },
  {
   "cell_type": "code",
   "execution_count": 85,
   "metadata": {},
   "outputs": [],
   "source": [
    "# A = rand(q,q,q,da,da)\n",
    "# B = rand(q,q,q,db,db)\n",
    "# # B = copy(A) .+ 1e-2.*rand.()\n",
    "\n",
    "# t = Truncator(A,B)"
   ]
  },
  {
   "cell_type": "code",
   "execution_count": 88,
   "metadata": {},
   "outputs": [],
   "source": [
    "using ForwardDiff\n",
    "\n",
    "autoderA = ForwardDiff.gradient(A->aug_lagrangian(A,B,t.Q,t.P,t.Q1,t.P1,t.λ,t.λ1), A)\n",
    "autoderQ = ForwardDiff.gradient(Q->aug_lagrangian(A,B,Q,t.P,t.Q1,t.P1,t.λ,t.λ1), t.Q)\n",
    "autoderP = ForwardDiff.gradient(P->aug_lagrangian(A,B,t.Q,P,t.Q1,t.P1,t.λ,t.λ1), t.P)\n",
    "autoderQ1 = ForwardDiff.gradient(Q1->aug_lagrangian(A,B,t.Q,t.P,Q1,t.P1,t.λ,t.λ1), t.Q1)\n",
    "autoderP1 = ForwardDiff.gradient(P1->aug_lagrangian(A,B,t.Q,t.P,t.Q1,P1,t.λ,t.λ1), t.P1)\n",
    "autoderλ = ForwardDiff.derivative(λ->aug_lagrangian(A,B,t.Q,t.P,t.Q1,t.P1,λ,t.λ1), t.λ)\n",
    "autoderλ1 = ForwardDiff.derivative(λ1->aug_lagrangian(A,B,t.Q,t.P,t.Q1,t.P1,t.λ,λ1), t.λ1)\n",
    ";"
   ]
  },
  {
   "cell_type": "code",
   "execution_count": 89,
   "metadata": {},
   "outputs": [
    {
     "name": "stdout",
     "output_type": "stream",
     "text": [
      "∂/∂λ\n",
      "2.0540504079810816e-13\n",
      "∂/∂λ1\n",
      "1.6832166629787787e-13\n",
      "∇Q\n",
      "6.875568799353307e-11\n",
      "∇P\n",
      "6.428191312579656e-14\n",
      "∇Q1\n",
      "4.3190780766625653e-11\n",
      "∇P1\n",
      "4.7128967395337895e-14\n",
      "∇A\n",
      "8.726455921363612e-13\n",
      "\n",
      "marginals(B) = ComplexF64[0.4898750397064748 - 1.5966858346700673e-17im, 0.5101249602935252 + 1.5966858346700673e-17im]\n",
      "marginals(A) = ComplexF64[0.48987503970648083 - 1.2563254829870378e-17im, 0.5101249602935192 + 1.2563254829870375e-17im]\n",
      "fidelity_eig(A,B) = 2.842170943040401e-14\n"
     ]
    }
   ],
   "source": [
    "derλ, derλ1, derQ, derP, derQ1, derP1, derA = aug_lagrange!(A,B, t; μs=[1e2], maxiters=[1], ηs=[1e-1], tols=[1e-12]);"
   ]
  },
  {
   "cell_type": "code",
   "execution_count": 90,
   "metadata": {},
   "outputs": [
    {
     "name": "stdout",
     "output_type": "stream",
     "text": [
      "maximum(abs, (derA .- autoderA) ./ autoderA) = 0.42308209240546585\n",
      "maximum(abs, derQ .- autoderQ) = 6.793024800994646e-14\n",
      "maximum(abs, derP .- autoderP) = 5.551115123125783e-17\n",
      "maximum(abs, derQ1 .- autoderQ1) = 6.933510584548524e-14\n",
      "maximum(abs, derP1 .- autoderP1) = 5.551115123125783e-17\n",
      "maximum(abs, derλ .- autoderλ) = 1.3781242454202061e-17\n",
      "maximum(abs, derλ1 .- autoderλ1) = 6.5427805007096e-16\n"
     ]
    }
   ],
   "source": [
    "@show maximum(abs, (derA .- autoderA) ./ autoderA)\n",
    "@show maximum(abs, (derQ .- autoderQ))\n",
    "@show maximum(abs, (derP .- autoderP))\n",
    "@show maximum(abs, (derQ1 .- autoderQ1))\n",
    "@show maximum(abs, (derP1 .- autoderP1))\n",
    "@show maximum(abs, (derλ .- autoderλ))\n",
    "@show maximum(abs, (derλ1 .- autoderλ1))\n",
    ";"
   ]
  },
  {
   "cell_type": "code",
   "execution_count": 92,
   "metadata": {},
   "outputs": [
    {
     "data": {
      "text/plain": [
       "2×2×2×5×5 Array{Float64, 5}:\n",
       "[:, :, 1, 1, 1] =\n",
       " 0.00428783   0.00330612\n",
       " 0.000582364  0.000637387\n",
       "\n",
       "[:, :, 2, 1, 1] =\n",
       " -0.00433818  -0.000665725\n",
       "  0.00116178   0.00112565\n",
       "\n",
       "[:, :, 1, 2, 1] =\n",
       " -9.64665e-5  -0.00010027\n",
       "  0.0023665    0.00349471\n",
       "\n",
       "[:, :, 2, 2, 1] =\n",
       " 0.00254498   0.0033817\n",
       " 0.000207389  0.000295473\n",
       "\n",
       "[:, :, 1, 3, 1] =\n",
       " -0.00128106  -0.00128074\n",
       " -0.0163645   -0.0511933\n",
       "\n",
       "[:, :, 2, 3, 1] =\n",
       " -0.00120244  -0.00105976\n",
       "  0.0157324    2.75232e-5\n",
       "\n",
       "[:, :, 1, 4, 1] =\n",
       " 0.00134028  0.00163237\n",
       " 0.00535454  0.00412392\n",
       "\n",
       "[:, :, 2, 4, 1] =\n",
       "  0.00255515   0.00262159\n",
       " -0.000135793  0.000190916\n",
       "\n",
       "[:, :, 1, 5, 1] =\n",
       "  0.000167619  0.000145741\n",
       " -0.0164358    0.0473881\n",
       "\n",
       "[:, :, 2, 5, 1] =\n",
       " -0.0698958    0.13365\n",
       " -0.00171651  -0.0021175\n",
       "\n",
       "[:, :, 1, 1, 2] =\n",
       " 0.00416618   0.00346109\n",
       " 0.000698925  0.00051263\n",
       "\n",
       "[:, :, 2, 1, 2] =\n",
       " -0.00422151  -0.000940963\n",
       "  0.00105911   0.00107524\n",
       "\n",
       "[:, :, 1, 2, 2] =\n",
       " -9.18906e-5  -0.00011511\n",
       "  0.00266457   0.00286381\n",
       "\n",
       "[:, :, 2, 2, 2] =\n",
       " 0.00296956   0.00259668\n",
       " 0.000230703  0.000234857\n",
       "\n",
       "[:, :, 1, 3, 2] =\n",
       " -0.00121659  -0.00167091\n",
       " -0.0178034   -0.0530305\n",
       "\n",
       "[:, :, 2, 3, 2] =\n",
       " -0.00144364  -0.000990802\n",
       "  0.00510055  -0.000275587\n",
       "\n",
       "[:, :, 1, 4, 2] =\n",
       " 0.00131939  0.00166758\n",
       " 0.00560158  0.00461862\n",
       "\n",
       "[:, :, 2, 4, 2] =\n",
       " 0.00286683   0.00219704\n",
       " 0.000119186  8.25122e-5\n",
       "\n",
       "[:, :, 1, 5, 2] =\n",
       "  0.000216502  0.000100791\n",
       " -0.0179391    0.0737974\n",
       "\n",
       "[:, :, 2, 5, 2] =\n",
       " -0.0486997    0.0635867\n",
       " -0.00178286  -0.00183871\n",
       "\n",
       "[:, :, 1, 1, 3] =\n",
       " 0.00503923   0.00356388\n",
       " 0.000613854  0.000457205\n",
       "\n",
       "[:, :, 2, 1, 3] =\n",
       " -0.00465671  -0.00172049\n",
       "  0.00100024   0.00121084\n",
       "\n",
       "[:, :, 1, 2, 3] =\n",
       " -0.000102596  -4.77525e-5\n",
       "  0.00236441    0.00314184\n",
       "\n",
       "[:, :, 2, 2, 3] =\n",
       " 0.00204977   0.00324383\n",
       " 0.000222462  0.000233574\n",
       "\n",
       "[:, :, 1, 3, 3] =\n",
       " -0.00156652  -0.00138392\n",
       " -0.0325325   -0.0316627\n",
       "\n",
       "[:, :, 2, 3, 3] =\n",
       " -0.0011745  -0.00112456\n",
       "  0.0113756   0.000923797\n",
       "\n",
       "[:, :, 1, 4, 3] =\n",
       " 0.00136436  0.00171163\n",
       " 0.00460783  0.00486248\n",
       "\n",
       "[:, :, 2, 4, 3] =\n",
       "  0.00196649    0.00249634\n",
       " -0.000174982  -0.000129119\n",
       "\n",
       "[:, :, 1, 5, 3] =\n",
       "  0.000226739   0.000170858\n",
       " -0.0315597    -0.423082\n",
       "\n",
       "[:, :, 2, 5, 3] =\n",
       " -0.074453    -0.416853\n",
       " -0.00161541  -0.00235743\n",
       "\n",
       "[:, :, 1, 1, 4] =\n",
       " 0.00429463   0.00368978\n",
       " 0.000809243  0.000589274\n",
       "\n",
       "[:, :, 2, 1, 4] =\n",
       " -0.00384754  -0.00108795\n",
       "  0.00124789   0.00119982\n",
       "\n",
       "[:, :, 1, 2, 4] =\n",
       " -0.000125226  -8.22253e-5\n",
       "  0.0023606     0.00241128\n",
       "\n",
       "[:, :, 2, 2, 4] =\n",
       " 0.00296707   0.00257537\n",
       " 0.000259662  0.000281351\n",
       "\n",
       "[:, :, 1, 3, 4] =\n",
       " -0.00129297  -0.00141822\n",
       " -0.0188848   -0.150532\n",
       "\n",
       "[:, :, 2, 3, 4] =\n",
       " -0.00128149  -0.00100972\n",
       "  0.00844807   0.0010779\n",
       "\n",
       "[:, :, 1, 4, 4] =\n",
       " 0.00130718  0.00183259\n",
       " 0.00520256  0.00399268\n",
       "\n",
       "[:, :, 2, 4, 4] =\n",
       " 0.00229223  0.0024439\n",
       " 3.03291e-5  0.000156033\n",
       "\n",
       "[:, :, 1, 5, 4] =\n",
       "  0.00020068  0.000177948\n",
       " -0.0190632   0.0383853\n",
       "\n",
       "[:, :, 2, 5, 4] =\n",
       " -0.0596117    0.0995382\n",
       " -0.00170199  -0.00175928\n",
       "\n",
       "[:, :, 1, 1, 5] =\n",
       " 0.0057328    0.00318348\n",
       " 0.000553811  0.00048773\n",
       "\n",
       "[:, :, 2, 1, 5] =\n",
       " -0.00254132  -0.00117914\n",
       "  0.00111085   0.00115835\n",
       "\n",
       "[:, :, 1, 2, 5] =\n",
       " -7.57164e-5  -9.52645e-5\n",
       "  0.0019897    0.00302277\n",
       "\n",
       "[:, :, 2, 2, 5] =\n",
       " 0.00288506   0.00388553\n",
       " 0.000294708  0.000308842\n",
       "\n",
       "[:, :, 1, 3, 5] =\n",
       " -0.00130997  -0.00166748\n",
       " -0.0584291   -0.054137\n",
       "\n",
       "[:, :, 2, 3, 5] =\n",
       " -0.00128584  -0.00107051\n",
       " -0.0224165    0.0036003\n",
       "\n",
       "[:, :, 1, 4, 5] =\n",
       " 0.00151878  0.00165178\n",
       " 0.0046276   0.00393197\n",
       "\n",
       "[:, :, 2, 4, 5] =\n",
       "  0.0020508    0.00297104\n",
       " -7.25459e-5  -0.00011351\n",
       "\n",
       "[:, :, 1, 5, 5] =\n",
       "  0.000165653  0.000226427\n",
       " -0.0673968    0.0656022\n",
       "\n",
       "[:, :, 2, 5, 5] =\n",
       "  0.223087     0.0768219\n",
       " -0.00148895  -0.00179192"
      ]
     },
     "metadata": {},
     "output_type": "display_data"
    }
   ],
   "source": [
    "(derA .- autoderA) ./ autoderA"
   ]
  }
 ],
 "metadata": {
  "kernelspec": {
   "display_name": "Julia 1.11.5",
   "language": "julia",
   "name": "julia-1.11"
  },
  "language_info": {
   "file_extension": ".jl",
   "mimetype": "application/julia",
   "name": "julia",
   "version": "1.11.5"
  }
 },
 "nbformat": 4,
 "nbformat_minor": 2
}
