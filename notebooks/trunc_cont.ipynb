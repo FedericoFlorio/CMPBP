{
 "cells": [
  {
   "cell_type": "code",
   "execution_count": 1,
   "metadata": {},
   "outputs": [
    {
     "name": "stderr",
     "output_type": "stream",
     "text": [
      "\u001b[32m\u001b[1m  Activating\u001b[22m\u001b[39m project at `~/PhD/CMPBP`\n"
     ]
    }
   ],
   "source": [
    "using Pkg\n",
    "Pkg.activate(\"..\")"
   ]
  },
  {
   "cell_type": "code",
   "execution_count": 2,
   "metadata": {},
   "outputs": [],
   "source": [
    "using LinearAlgebra, Statistics, Revise\n",
    "includet(\"../src/observables.jl\")\n",
    "includet(\"../src/truncation.jl\")\n",
    "includet(\"../src/glauber.jl\")\n",
    "includet(\"../src/cmpbp.jl\")"
   ]
  },
  {
   "cell_type": "markdown",
   "metadata": {},
   "source": [
    "## Lagrange ascent"
   ]
  },
  {
   "cell_type": "code",
   "execution_count": 3,
   "metadata": {},
   "outputs": [
    {
     "data": {
      "text/plain": [
       "fidelity_eig (generic function with 1 method)"
      ]
     },
     "metadata": {},
     "output_type": "display_data"
    }
   ],
   "source": [
    "function build_S(A,B; q=size(A, 1), da=size(A,4), db=size(B,4))\n",
    "    sum(kron(E(z,zz;q), I(q), I(da), I(db)) for z in 1:q, zz in 1:q if z≠zz) + \n",
    "        sum(kron(E(z,z;q), E(x,x;q), kron(A[x,x,z,:,:],I(db))+kron(I(da),B[x,x,z,:,:])) for z in 1:q, x in 1:q) +\n",
    "        sum(kron(E(z,z;q), E(x,y;q), A[x,y,z,:,:], B[x,y,z,:,:]) for z in 1:q, x in 1:q, y in 1:q if y≠x)\n",
    "end\n",
    "\n",
    "function eigmax_S(A,B)\n",
    "    q = size(A, 1)\n",
    "    da, db = size(A,4), size(B,4)\n",
    "    size(A,2)==size(A,3)==size(B,1)==size(B,2)==size(B,3)==q || error(\"Incompatible dimensions\")\n",
    "    (size(A,5)==da && size(B,5)==db) || error(\"Incompatible dimensions\")\n",
    "\n",
    "    S = build_S(A,B; q,da,db)\n",
    "    maximum(real, eigen(S).values)\n",
    "    # eigen(S)\n",
    "end\n",
    "\n",
    "fidelity_eig(A,B) = eigmax_S(A,B) - 0.5 * (eigmax_S(A,A) + eigmax_S(B,B))"
   ]
  },
  {
   "cell_type": "code",
   "execution_count": 4,
   "metadata": {},
   "outputs": [
    {
     "name": "stdout",
     "output_type": "stream",
     "text": [
      "marginals(B) = ComplexF64[0.49637322170347814 + 3.161629217700206e-17im, 0.5036267782965218 - 3.161629217700206e-17im]\n",
      "marginals(A) = ComplexF64[0.5135004237456954 + 5.3287743622192875e-18im, 0.4864995762543047 - 5.3287743622192906e-18im]\n",
      "fidelity(A, B; maxiter = 10 ^ 6) = -0.009335742466259234\n",
      "fidelity_eig(A, B) = -0.009335742466264563\n"
     ]
    }
   ],
   "source": [
    "q = 2\n",
    "da, db = 5, 5\n",
    "\n",
    "B = rand(q,q,q,da,da)\n",
    "A = rand(q,q,q,db,db)\n",
    "# A = copy(B) .+ 0.1.*rand.()\n",
    "t = Truncator(A,B)\n",
    "\n",
    "@show marginals(B) marginals(A) fidelity(A,B; maxiter=10^6) fidelity_eig(A,B);"
   ]
  },
  {
   "cell_type": "code",
   "execution_count": 5,
   "metadata": {},
   "outputs": [
    {
     "name": "stdout",
     "output_type": "stream",
     "text": [
      "marginals(B) = ComplexF64[0.49637322170347814 + 3.161629217700206e-17im, 0.5036267782965218 - 3.161629217700206e-17im]\n",
      "marginals(A) = ComplexF64[0.5058359255505653 + 5.698969122021769e-17im, 0.4941640744494346 - 5.698969122021769e-17im]\n",
      "fidelity_eig(A, B) = -0.0010293252391786467\n"
     ]
    }
   ],
   "source": [
    "ascent!(A, B, t; maxiters=[1000], ηs=[1e-4])\n",
    "@show marginals(B) marginals(A) fidelity_eig(A,B);"
   ]
  },
  {
   "cell_type": "markdown",
   "metadata": {},
   "source": [
    "## Augmented Lagrangian method"
   ]
  },
  {
   "cell_type": "code",
   "execution_count": 6,
   "metadata": {},
   "outputs": [
    {
     "data": {
      "text/plain": [
       "aug_lagrangian (generic function with 1 method)"
      ]
     },
     "metadata": {},
     "output_type": "display_data"
    }
   ],
   "source": [
    "e(x; q=2) = [i==x for i in 1:q]\n",
    "\n",
    "function aug_lagrangian(A, B, Q, P, Q1, P1, λ, λ1; μ=-1e2, verbose=false)\n",
    "    q = size(A, 1)\n",
    "    da, db = size(A,4), size(B,4)\n",
    "\n",
    "    S = build_S(A,B; q,da,db)\n",
    "    S1 = build_S(A,A; q,da,db=da)\n",
    "    vecQ = sum(kron(e(z;q), e(x;q), vec(Q[x,z,:,:])) for z in 1:q, x in 1:q)\n",
    "    vecQ1 = sum(kron(e(z;q), e(x;q), vec(Q1[x,z,:,:])) for z in 1:q, x in 1:q)\n",
    "    vecP = sum(kron(e(z;q), e(x;q), vec(P[x,z,:,:])) for z in 1:q, x in 1:q)\n",
    "    vecP1 = sum(kron(e(z;q), e(x;q), vec(P1[x,z,:,:])) for z in 1:q, x in 1:q)\n",
    "\n",
    "    Sq = S*vecQ - λ*vecQ\n",
    "    S1q1 = S1*vecQ1 - λ1*vecQ1\n",
    "\n",
    "    if verbose\n",
    "        @show Sq'Sq S1q1'S1q1 vecP'Sq vecP1'S1q1\n",
    "    end\n",
    "    return λ - λ1/2 + μ/2 * (Sq'Sq + S1q1'S1q1) + vecP'Sq + vecP1'S1q1\n",
    "end"
   ]
  },
  {
   "cell_type": "code",
   "execution_count": 13,
   "metadata": {},
   "outputs": [
    {
     "name": "stdout",
     "output_type": "stream",
     "text": [
      "fidelity_eig(A, B) = -0.7616218521629694\n"
     ]
    }
   ],
   "source": [
    "q = 2\n",
    "da, db = 5, 5\n",
    "\n",
    "A = rand(q,q,q,da,da)\n",
    "B = rand(q,q,q,db,db)\n",
    "# B = copy(A) .+ 1-1 .* rand.()\n",
    "@show fidelity_eig(A,B)\n",
    "\n",
    "t = Truncator(A,B);"
   ]
  },
  {
   "cell_type": "code",
   "execution_count": 14,
   "metadata": {},
   "outputs": [
    {
     "name": "stdout",
     "output_type": "stream",
     "text": [
      "maxiter_pow = 100000\n",
      "maxiter_pow = 100000\n",
      "maxiter_pow = 100000\n"
     ]
    }
   ],
   "source": [
    "Q, P, Q1, P1 = t.Q, t.P, t.Q1, t.P1\n",
    "Qold, Pold, Q1old, P1old = t.Qold, t.Pold, t.Q1old, t.P1old\n",
    "simQ, simQ1, X = t.simQ, t.simQ1, t.X\n",
    "\n",
    "maxiter_pow = 10^5\n",
    "tol_pow = 1e-20\n",
    "\n",
    "findeigen_l!(P, A, B; maxiter_pow, tol_pow, q,da,db, X=simQ, Pold)\n",
    "findeigen_r!(Q, A, B; maxiter_pow, tol_pow, q,da,db, X=simQ, Qold)\n",
    "findeigen_l!(P1, A, A; maxiter_pow, tol_pow, q,da,db=da, X=simQ1, Pold=P1old)\n",
    "findeigen_r!(Q1, A, A; maxiter_pow, tol_pow, q,da,db=da, X=simQ1, Qold=Q1old)\n",
    "n = dotprod(P, Q)\n",
    "P ./= n\n",
    "n1 = dotprod(P1, Q1)\n",
    "P1 ./= -2n1\n",
    "\n",
    "Qold .= Q\n",
    "Pold .= P\n",
    "Q1old .= Q1\n",
    "P1old .= P1\n",
    "\n",
    "apply!(Qold,A,B)\n",
    "apply_dag!(Pold,A,B)\n",
    "apply!(Q1old,A,A)\n",
    "apply_dag!(P1old,A,A)\n",
    "\n",
    "t.λ = mean(Qold./Q)\n",
    "t.λ1 = mean(Q1old./Q1)\n",
    "Qold .= Q\n",
    "Q1old .= Q1\n",
    ";"
   ]
  },
  {
   "cell_type": "code",
   "execution_count": 21,
   "metadata": {},
   "outputs": [
    {
     "name": "stdout",
     "output_type": "stream",
     "text": [
      "ϵC = 0.059491343867419506\n",
      "Gradient ascent not converged with 0.009635105637996626\n",
      "ϵC = 0.08251208187633191\n",
      "Gradient ascent not converged with 0.049820053757181654\n",
      "ϵC = 0.07019856787584904\n",
      "Gradient ascent not converged with 0.008807196263624265\n",
      "ϵC = 0.058205916020392594\n",
      "Gradient ascent not converged with 0.0027810114560146513\n",
      "ϵC = 0.048455866600364064\n",
      "Gradient ascent not converged with 0.002150441419949165\n",
      "ϵC = 0.04045724421247072\n",
      "ϵC = 0.03892500948683268\n",
      "ϵC = 0.034755740776114555\n",
      "ϵC = 0.02969279091697303\n",
      "ϵC = 0.02445918248048783\n",
      "ϵC = 0.01969251896298013\n",
      "ϵC = 0.015701178794986975\n",
      "ϵC = 0.014271551317587186\n",
      "ϵC = 0.010282468845990798\n",
      "ϵC = 0.007928013493702526\n",
      "ϵC = 0.007409239346329605\n",
      "ϵC = 0.005198695720913815\n",
      "ϵC = 0.005788449288703128\n",
      "ϵC = 0.003875599681906877\n",
      "ϵC = 0.003402771095273558\n",
      "ϵC = 0.0027914072101086524\n",
      "ϵC = 0.0022389817124466387\n",
      "ϵC = 0.0023651677862657023\n",
      "ϵC = 0.0021349279664509783\n",
      "ϵC = 0.0018604251280315489\n",
      "ϵC = 0.002253054565305287\n",
      "ϵC = 0.00551661487712343\n",
      "ϵC = 0.002296821311189863\n",
      "ϵC = 0.0022270352124335343\n",
      "ϵC = 0.0023961819342451372\n",
      "ϵC = 0.0013808837924571106\n",
      "ϵC = 0.0017660486944535516\n",
      "ϵC = 0.004398701681707866\n",
      "ϵC = 0.004914226752897416\n",
      "ϵC = 0.0010562865898709538\n",
      "ϵC = 0.001249784382255148\n",
      "ϵC = 0.0009004200454678723\n",
      "ϵC = 0.0014157190521564642\n",
      "ϵC = 0.0023822146785771256\n",
      "ϵC = 0.001108889183665347\n",
      "ϵC = 0.001802632739289719\n",
      "ϵC = 0.0011781367643047495\n",
      "ϵC = 0.0021600922768218304\n",
      "ϵC = 0.001414314965958358\n",
      "ϵC = 0.0012583150401159714\n",
      "ϵC = 0.0008534854601146573\n",
      "ϵC = 0.001630312621839793\n",
      "ϵC = 0.0037963403242412563\n",
      "ϵC = 0.0007314798613183273\n",
      "ϵC = 0.002287423552769786\n",
      "ϵC = 0.0041477844302321995\n",
      "ϵC = 0.001494115160825289\n",
      "ϵC = 0.0007678606285301776\n",
      "ϵC = 0.0029270900554109985\n",
      "ϵC = 0.0018053270654984409\n",
      "ϵC = 0.0021079013661261165\n",
      "ϵC = 0.0025279280309820178\n",
      "ϵC = 0.0061311508428835825\n",
      "ϵC = 0.00717298723855589\n",
      "ϵC = 0.0008692924690401979\n",
      "ϵC = 0.0011539407621487838\n",
      "ϵC = 0.0011201609742848132\n",
      "ϵC = 0.0010939147844093958\n",
      "ϵC = 0.002055773884704221\n",
      "ϵC = 0.0008242632138758403\n",
      "ϵC = 0.0021042816241667235\n",
      "ϵC = 0.006043732034556023\n",
      "ϵC = 0.0018318251010436735\n",
      "ϵC = 0.0008602917358740454\n",
      "ϵC = 0.003165122874572894\n",
      "ϵC = 0.0010697685028453984\n",
      "ϵC = 0.001488209030669252\n",
      "ϵC = 0.0017733733885704614\n",
      "ϵC = 0.005362496367790025\n",
      "ϵC = 0.0016784187062613184\n",
      "ϵC = 0.0015233448755942246\n",
      "ϵC = 0.0021846017068827945\n",
      "ϵC = 0.0036018472137902004\n",
      "ϵC = 0.0027554141280837175\n",
      "ϵC = 0.0019282618563943054\n",
      "ϵC = 0.0010825313043518157\n",
      "ϵC = 0.0009322475767752201\n",
      "ϵC = 0.001330413244265096\n",
      "ϵC = 0.0009365718643280899\n",
      "ϵC = 0.0025766242065585056\n",
      "ϵC = 0.0017000897103049818\n",
      "ϵC = 0.002751924703783583\n",
      "ϵC = 0.002915299294283705\n",
      "ϵC = 0.0027283308314142492\n",
      "ϵC = 0.0023952464171619644\n",
      "ϵC = 0.0021291815658585427\n",
      "ϵC = 0.0016658814291627844\n",
      "ϵC = 0.0017101114920493254\n",
      "ϵC = 0.0012599234187318136\n",
      "ϵC = 0.0008902745569485195\n",
      "ϵC = 0.001104777455185697\n",
      "ϵC = 0.002284329301878218\n",
      "ϵC = 0.00037156063549287404\n",
      "ϵC = 0.001398007611722746\n",
      "ϵC = 0.0016402630087917335\n"
     ]
    }
   ],
   "source": [
    "derλ, derλ1, derQ, derQ1, derA = aug_lagrange!(A,B, t; μ=-1e1, ω_stop=1e-3, maxiter=10^2, maxiter_grad=10^2, ηA=1e-3, ηQ=1e-3, ω=1e-3, tol=1e-3, τ=1.2, α=0.5, β=0.8, verbose=true);"
   ]
  },
  {
   "cell_type": "code",
   "execution_count": 22,
   "metadata": {},
   "outputs": [
    {
     "data": {
      "text/plain": [
       "-0.003909848520857295"
      ]
     },
     "metadata": {},
     "output_type": "display_data"
    }
   ],
   "source": [
    "fidelity_eig(A,B)"
   ]
  },
  {
   "cell_type": "code",
   "execution_count": 23,
   "metadata": {},
   "outputs": [
    {
     "name": "stdout",
     "output_type": "stream",
     "text": [
      "marginals(B) = ComplexF64[0.518482509090113 - 1.004670283586453e-16im, 0.4815174909098871 + 1.004670283586453e-16im]\n",
      "marginals(A) = ComplexF64[0.5157589284791987 - 1.4880314406636382e-17im, 0.4842410715208013 + 1.4880314406636382e-17im]\n"
     ]
    }
   ],
   "source": [
    "@show marginals(B) marginals(A);"
   ]
  },
  {
   "cell_type": "code",
   "execution_count": 9,
   "metadata": {},
   "outputs": [],
   "source": [
    "using ForwardDiff\n",
    "\n",
    "autoderA = ForwardDiff.gradient(A->aug_lagrangian(A,B,t.Q,t.P,t.Q1,t.P1,t.λ,t.λ1), A)\n",
    "autoderQ = ForwardDiff.gradient(Q->aug_lagrangian(A,B,Q,t.P,t.Q1,t.P1,t.λ,t.λ1), t.Q)\n",
    "autoderP = ForwardDiff.gradient(P->aug_lagrangian(A,B,t.Q,P,t.Q1,t.P1,t.λ,t.λ1), t.P)\n",
    "autoderQ1 = ForwardDiff.gradient(Q1->aug_lagrangian(A,B,t.Q,t.P,Q1,t.P1,t.λ,t.λ1), t.Q1)\n",
    "autoderP1 = ForwardDiff.gradient(P1->aug_lagrangian(A,B,t.Q,t.P,t.Q1,P1,t.λ,t.λ1), t.P1)\n",
    "autoderλ = ForwardDiff.derivative(λ->aug_lagrangian(A,B,t.Q,t.P,t.Q1,t.P1,λ,t.λ1), t.λ)\n",
    "autoderλ1 = ForwardDiff.derivative(λ1->aug_lagrangian(A,B,t.Q,t.P,t.Q1,t.P1,t.λ,λ1), t.λ1)\n",
    ";"
   ]
  }
 ],
 "metadata": {
  "kernelspec": {
   "display_name": "Julia 1.11.5",
   "language": "julia",
   "name": "julia-1.11"
  },
  "language_info": {
   "file_extension": ".jl",
   "mimetype": "application/julia",
   "name": "julia",
   "version": "1.11.5"
  }
 },
 "nbformat": 4,
 "nbformat_minor": 2
}
