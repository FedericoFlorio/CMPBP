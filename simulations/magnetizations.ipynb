{
 "cells": [
  {
   "cell_type": "code",
   "execution_count": 1,
   "metadata": {},
   "outputs": [
    {
     "name": "stderr",
     "output_type": "stream",
     "text": [
      "\u001b[32m\u001b[1m  Activating\u001b[22m\u001b[39m project at `~/PhD/CMPBP`\n"
     ]
    }
   ],
   "source": [
    "using Pkg\n",
    "Pkg.activate(\"..\")"
   ]
  },
  {
   "cell_type": "code",
   "execution_count": 2,
   "metadata": {},
   "outputs": [],
   "source": [
    "using Revise, JLD2, Plots, LinearAlgebra\n",
    "includet(\"../src/observables.jl\")\n",
    "includet(\"../src/truncation.jl\")\n",
    "includet(\"../src/glauber.jl\")\n",
    "includet(\"../src/cmpbp.jl\")"
   ]
  },
  {
   "cell_type": "code",
   "execution_count": 3,
   "metadata": {},
   "outputs": [
    {
     "name": "stdout",
     "output_type": "stream",
     "text": [
      "d = 5\n",
      "magnetization before truncation: 0.22814590317882083 + 8.057753728226241e-18im\n",
      "magnetization after truncation: 0.24727984695417682 + 3.3731028577885127e-18im\n",
      "d = 6\n",
      "magnetization before truncation: -0.1360242700776762 + 1.59697432199455e-16im\n",
      "magnetization after truncation: -0.25810140710777424 + 8.451344150625576e-17im\n",
      "d = 7\n",
      "magnetization before truncation: 0.3285665501596818 + 6.639747694775607e-16im\n",
      "magnetization after truncation: 0.48716586148064395 + 1.2617096332420004e-16im\n",
      "d = 8\n",
      "magnetization before truncation: -0.26455192370792147 + 1.3158876979212237e-16im\n",
      "magnetization after truncation: -0.7347053336708824 + 9.751016538195213e-17im\n"
     ]
    }
   ],
   "source": [
    "AAs = []\n",
    "As = []\n",
    "\n",
    "for d in 5:8\n",
    "    D = load(\"results/infinite_3-regular_d$d.jld2\")\n",
    "    push!(AAs, D[\"AA\"])\n",
    "    push!(As, D[\"A\"])\n",
    "    println(\"d = $d\")\n",
    "    println(\"magnetization before truncation: $(magnetization(AAs[end]))\")\n",
    "    println(\"magnetization after truncation: $(magnetization(As[end]))\")\n",
    "end"
   ]
  },
  {
   "cell_type": "code",
   "execution_count": null,
   "metadata": {},
   "outputs": [
    {
     "name": "stdout",
     "output_type": "stream",
     "text": [
      "marginals(AA) = ComplexF64[0.41402134973939114 - 8.500569797630985e-17im, 0.5859786502606089 + 8.500569797630985e-17im]\n",
      "marginals(Anew) = ComplexF64[0.3846047004736598 - 1.664802257180714e-17im, 0.6153952995263402 + 1.6648022571807144e-17im]\n",
      "marginals(AA) = ComplexF64[0.41334246469964553 + 2.368242521899472e-16im, 0.5866575353003545 - 2.3682425218994724e-16im]\n",
      "marginals(Anew) = ComplexF64[0.39577804083057555 + 1.3125844985152006e-17im, 0.6042219591694246 - 1.3125844985152001e-17im]\n",
      "marginals(AA) = ComplexF64[0.4247100719376615 - 8.891438933109813e-17im, 0.5752899280623384 + 8.891438933109813e-17im]\n",
      "marginals(Anew) = ComplexF64[0.4130615660035392 + 1.8823956067773586e-18im, 0.5869384339964607 - 1.882395606777357e-18im]\n"
     ]
    },
    {
     "data": {
      "text/plain": [
       "0.1738768679929215 - 3.764791213554716e-18im"
      ]
     },
     "metadata": {},
     "output_type": "display_data"
    }
   ],
   "source": [
    "d = 5\n",
    "\n",
    "k = 3\n",
    "β = 1.0\n",
    "J = 0.2\n",
    "h = 0.1\n",
    "\n",
    "w = GlauberFactor(β, J, h)\n",
    "AA = copy(AAs[d-4])\n",
    "A = copy(As[d-4])\n",
    "\n",
    "it, A, AA = iterate_infinite_regular!(A, w, prob_glauber; maxiter=3, tol=1e-12, maxits_ascent=[1000,1000,1000], tols_ascent=[1e-16,1e-16,1e-16], ηs=[1e-1,1e-2,1e-3], maxit_pow=10^3, tol_pow=1e-16)\n",
    "\n",
    "magnetization(A)"
   ]
  },
  {
   "cell_type": "code",
   "execution_count": 15,
   "metadata": {},
   "outputs": [
    {
     "data": {
      "text/plain": [
       "0.21044209906299588 + 9.545722818500953e-18im"
      ]
     },
     "metadata": {},
     "output_type": "display_data"
    }
   ],
   "source": [
    "magnetization(A)"
   ]
  },
  {
   "cell_type": "code",
   "execution_count": 15,
   "metadata": {},
   "outputs": [
    {
     "name": "stdout",
     "output_type": "stream",
     "text": [
      "magnetization(AA) = 0.3285665501596818 + 6.639747694775607e-16im\n",
      "magnetization(A) = 0.9984238573668349 - 3.2432297520267328e-19im\n"
     ]
    }
   ],
   "source": [
    "d = 7\n",
    "\n",
    "# AA = copy(AAs[d-4])\n",
    "# A = rand(size(As[d-4])...)\n",
    "\n",
    "ascent!(A, AA; maxiters=[100], ηs=[1e-2], tols=[1e-16], maxiter_pow=10^3, tol_pow=1e-16)\n",
    "@show magnetization(AA) magnetization(A);"
   ]
  }
 ],
 "metadata": {
  "kernelspec": {
   "display_name": "Julia 1.11.5",
   "language": "julia",
   "name": "julia-1.11"
  },
  "language_info": {
   "file_extension": ".jl",
   "mimetype": "application/julia",
   "name": "julia",
   "version": "1.11.5"
  }
 },
 "nbformat": 4,
 "nbformat_minor": 2
}
